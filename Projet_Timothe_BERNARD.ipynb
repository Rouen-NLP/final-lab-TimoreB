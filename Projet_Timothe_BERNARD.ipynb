{
 "cells": [
  {
   "cell_type": "code",
   "execution_count": 38,
   "metadata": {
    "scrolled": true
   },
   "outputs": [],
   "source": [
    "import numpy as np \n",
    "import pandas as pd\n",
    "import os\n",
    "import seaborn as sns\n",
    "import sklearn\n",
    "from sklearn.feature_extraction.text import CountVectorizer\n",
    "from sklearn.model_selection import train_test_split\n",
    "from sklearn.naive_bayes import MultinomialNB\n",
    "from sklearn.metrics import accuracy_score, classification_report, confusion_matrix"
   ]
  },
  {
   "cell_type": "code",
   "execution_count": 28,
   "metadata": {},
   "outputs": [
    {
     "data": {
      "text/html": [
       "<div>\n",
       "<style scoped>\n",
       "    .dataframe tbody tr th:only-of-type {\n",
       "        vertical-align: middle;\n",
       "    }\n",
       "\n",
       "    .dataframe tbody tr th {\n",
       "        vertical-align: top;\n",
       "    }\n",
       "\n",
       "    .dataframe thead th {\n",
       "        text-align: right;\n",
       "    }\n",
       "</style>\n",
       "<table border=\"1\" class=\"dataframe\">\n",
       "  <thead>\n",
       "    <tr style=\"text-align: right;\">\n",
       "      <th></th>\n",
       "      <th>img_path</th>\n",
       "      <th>label</th>\n",
       "    </tr>\n",
       "  </thead>\n",
       "  <tbody>\n",
       "    <tr>\n",
       "      <th>0</th>\n",
       "      <td>Advertisement/0000136188.jpg</td>\n",
       "      <td>Advertisement</td>\n",
       "    </tr>\n",
       "    <tr>\n",
       "      <th>1</th>\n",
       "      <td>Advertisement/0000435350.jpg</td>\n",
       "      <td>Advertisement</td>\n",
       "    </tr>\n",
       "    <tr>\n",
       "      <th>2</th>\n",
       "      <td>Advertisement/0000556056.jpg</td>\n",
       "      <td>Advertisement</td>\n",
       "    </tr>\n",
       "    <tr>\n",
       "      <th>3</th>\n",
       "      <td>Advertisement/0030048095.jpg</td>\n",
       "      <td>Advertisement</td>\n",
       "    </tr>\n",
       "    <tr>\n",
       "      <th>4</th>\n",
       "      <td>Advertisement/0030048989.jpg</td>\n",
       "      <td>Advertisement</td>\n",
       "    </tr>\n",
       "    <tr>\n",
       "      <th>5</th>\n",
       "      <td>Advertisement/0030049569.jpg</td>\n",
       "      <td>Advertisement</td>\n",
       "    </tr>\n",
       "    <tr>\n",
       "      <th>6</th>\n",
       "      <td>Advertisement/03496270.jpg</td>\n",
       "      <td>Advertisement</td>\n",
       "    </tr>\n",
       "    <tr>\n",
       "      <th>7</th>\n",
       "      <td>Advertisement/03567810.jpg</td>\n",
       "      <td>Advertisement</td>\n",
       "    </tr>\n",
       "    <tr>\n",
       "      <th>8</th>\n",
       "      <td>Advertisement/03722789.jpg</td>\n",
       "      <td>Advertisement</td>\n",
       "    </tr>\n",
       "    <tr>\n",
       "      <th>9</th>\n",
       "      <td>Advertisement/04102204.jpg</td>\n",
       "      <td>Advertisement</td>\n",
       "    </tr>\n",
       "  </tbody>\n",
       "</table>\n",
       "</div>"
      ],
      "text/plain": [
       "                       img_path          label\n",
       "0  Advertisement/0000136188.jpg  Advertisement\n",
       "1  Advertisement/0000435350.jpg  Advertisement\n",
       "2  Advertisement/0000556056.jpg  Advertisement\n",
       "3  Advertisement/0030048095.jpg  Advertisement\n",
       "4  Advertisement/0030048989.jpg  Advertisement\n",
       "5  Advertisement/0030049569.jpg  Advertisement\n",
       "6    Advertisement/03496270.jpg  Advertisement\n",
       "7    Advertisement/03567810.jpg  Advertisement\n",
       "8    Advertisement/03722789.jpg  Advertisement\n",
       "9    Advertisement/04102204.jpg  Advertisement"
      ]
     },
     "execution_count": 28,
     "metadata": {},
     "output_type": "execute_result"
    }
   ],
   "source": [
    "data = pd.read_csv('../nlp-labs/tobacco-lab/data/Tobacco3482.csv')\n",
    "data.head(10)"
   ]
  },
  {
   "cell_type": "code",
   "execution_count": 30,
   "metadata": {
    "scrolled": true
   },
   "outputs": [
    {
     "ename": "TypeError",
     "evalue": "set_xticklabels() missing 1 required positional argument: 'labels'",
     "output_type": "error",
     "traceback": [
      "\u001b[0;31m---------------------------------------------------------------------------\u001b[0m",
      "\u001b[0;31mTypeError\u001b[0m                                 Traceback (most recent call last)",
      "\u001b[0;32m<ipython-input-30-0d4f8d58f3c7>\u001b[0m in \u001b[0;36m<module>\u001b[0;34m()\u001b[0m\n\u001b[1;32m      1\u001b[0m \u001b[0mg\u001b[0m \u001b[0;34m=\u001b[0m \u001b[0msns\u001b[0m\u001b[0;34m.\u001b[0m\u001b[0mcountplot\u001b[0m\u001b[0;34m(\u001b[0m\u001b[0mdata\u001b[0m\u001b[0;34m[\u001b[0m\u001b[0;34m'label'\u001b[0m\u001b[0;34m]\u001b[0m\u001b[0;34m,\u001b[0m\u001b[0morient\u001b[0m\u001b[0;34m=\u001b[0m\u001b[0;34m'h'\u001b[0m\u001b[0;34m)\u001b[0m\u001b[0;34m\u001b[0m\u001b[0m\n\u001b[0;32m----> 2\u001b[0;31m \u001b[0mg\u001b[0m\u001b[0;34m.\u001b[0m\u001b[0mset_xticklabels\u001b[0m\u001b[0;34m(\u001b[0m\u001b[0mrotation\u001b[0m\u001b[0;34m=\u001b[0m\u001b[0;36m30\u001b[0m\u001b[0;34m)\u001b[0m\u001b[0;34m\u001b[0m\u001b[0m\n\u001b[0m",
      "\u001b[0;31mTypeError\u001b[0m: set_xticklabels() missing 1 required positional argument: 'labels'"
     ]
    },
    {
     "data": {
      "image/png": "[encoded data removed]",
      "text/plain": [
       "<Figure size 432x288 with 1 Axes>"
      ]
     },
     "metadata": {
      "needs_background": "light"
     },
     "output_type": "display_data"
    }
   ],
   "source": [
    "g = sns.countplot(data['label'],orient='h')\n",
    "g.set_xticklabels(rotation=30)"
   ]
  },
  {
   "cell_type": "code",
   "execution_count": 35,
   "metadata": {},
   "outputs": [],
   "source": [
    "list_files = []\n",
    "for root, dirs, files in os.walk(\"./data\", topdown=False):\n",
    "    for name in files:\n",
    "        if \".txt\" in os.path.join(root, name) :\n",
    "            list_files.append(os.path.join(root, name))\n",
    "\n",
    "list_text = []\n",
    "for file in list_files:\n",
    "    file_object = open(file,'r')\n",
    "    list_text.append(file_object.read())\n",
    "    "
   ]
  },
  {
   "cell_type": "code",
   "execution_count": 33,
   "metadata": {},
   "outputs": [],
   "source": [
    "dict_data = {}\n",
    "for i in range(len(data['img_path'])):\n",
    "    dict_data['../nlp-labs/tobacco-lab/data/'+data['img_path'][i].replace('jpg','txt')] = data['label'][i] \n",
    "X = []\n",
    "y = []\n",
    "for i in dict_data:\n",
    "    file_object = open(i,\"r\")\n",
    "    X.append(file_object.read())\n",
    "    file_object.close()\n",
    "    y.append(dict_data[i])"
   ]
  },
  {
   "cell_type": "code",
   "execution_count": 41,
   "metadata": {},
   "outputs": [],
   "source": [
    "\n",
    "X_train, X_test,y_train,  y_test = train_test_split(X,y, test_size=0.2)\n",
    "X_train, X_dev, y_train, y_dev = train_test_split(X_train, y_train, test_size = 0.25)"
   ]
  },
  {
   "cell_type": "code",
   "execution_count": 42,
   "metadata": {},
   "outputs": [
    {
     "name": "stdout",
     "output_type": "stream",
     "text": [
      "Evalution (Phase de train) :  0.8256704980842912\n",
      "Evalution (Phase de dev) :  0.7288378766140603\n",
      "Evalution (Phase de test) :  0.733142037302726 \n",
      "\n",
      "               precision    recall  f1-score   support\n",
      "\n",
      "Advertisement       0.67      0.64      0.65        53\n",
      "        Email       0.87      0.92      0.89       114\n",
      "         Form       0.71      0.74      0.72        91\n",
      "       Letter       0.69      0.80      0.74       109\n",
      "         Memo       0.80      0.72      0.75       137\n",
      "         News       0.79      0.79      0.79        39\n",
      "         Note       0.33      0.28      0.30        36\n",
      "       Report       0.59      0.51      0.55        47\n",
      "       Resume       0.95      1.00      0.97        18\n",
      "   Scientific       0.71      0.70      0.70        53\n",
      "\n",
      "  avg / total       0.73      0.73      0.73       697\n",
      "\n",
      "[[ 34   3   1   2   3   3   7   0   0   0]\n",
      " [  0 105   0   4   3   1   0   1   0   0]\n",
      " [  6   1  67   5   3   0   7   1   0   1]\n",
      " [  0   2   2  87   8   1   0   6   0   3]\n",
      " [  2   2   7  17  98   0   2   5   0   4]\n",
      " [  4   0   0   1   1  31   2   0   0   0]\n",
      " [  2   6  10   3   3   0  10   1   1   0]\n",
      " [  0   2   2   6   3   2   1  24   0   7]\n",
      " [  0   0   0   0   0   0   0   0  18   0]\n",
      " [  3   0   6   1   1   1   1   3   0  37]]\n"
     ]
    }
   ],
   "source": [
    "\n",
    "# On vectorize nos tweets\n",
    "vectorizer = CountVectorizer(max_features=2000)\n",
    "vectorizer.fit(X_train)\n",
    "X_train_counts = vectorizer.transform(X_train)\n",
    "X_test_counts = vectorizer.transform(X_test)\n",
    "X_dev_counts = vectorizer.transform(X_dev)\n",
    "\n",
    "# On entraine nos Naives Bayes\n",
    "model = MultinomialNB()\n",
    "model.fit(X_train_counts,y_train)\n",
    "\n",
    "y_pred_train = model.predict(X_train_counts)\n",
    "y_pred_dev = model.predict(X_dev_counts)\n",
    "y_pred_test = model.predict(X_test_counts)\n",
    "\n",
    "print(\"Evalution (Phase de train) : \",accuracy_score(y_train,y_pred_train))\n",
    "print(\"Evalution (Phase de dev) : \",accuracy_score(y_dev,y_pred_dev))\n",
    "print(\"Evalution (Phase de test) : \",accuracy_score(y_test,y_pred_test),\"\\n\")\n",
    "\n",
    "\n",
    "print(classification_report(y_test,y_pred_test))\n",
    "print(confusion_matrix(y_test,y_pred_test))\n"
   ]
  },
  {
   "cell_type": "markdown",
   "metadata": {},
   "source": [
    "# Commentaires \n",
    "\n",
    "Pas de soucis pour retrouver les CVs, ça il y arrive bien. "
   ]
  }
 ],
 "metadata": {
  "kernelspec": {
   "display_name": "Python 3",
   "language": "python",
   "name": "python3"
  },
  "language_info": {
   "codemirror_mode": {
    "name": "ipython",
    "version": 3
   },
   "file_extension": ".py",
   "mimetype": "text/x-python",
   "name": "python",
   "nbconvert_exporter": "python",
   "pygments_lexer": "ipython3",
   "version": "3.7.0"
  }
 },
 "nbformat": 4,
 "nbformat_minor": 2
}
