{
 "cells": [
  {
   "cell_type": "markdown",
   "metadata": {
    "scrolled": true
   },
   "source": [
    "# Text Analysis\n",
    "\n",
    "Projet de Timothé BERNARD"
   ]
  },
  {
   "cell_type": "code",
   "execution_count": 44,
   "metadata": {},
   "outputs": [],
   "source": [
    "import numpy as np \n",
    "import pandas as pd\n",
    "import os\n",
    "import seaborn as sns\n",
    "import sklearn\n",
    "from sklearn.feature_extraction.text import CountVectorizer,TfidfVectorizer,TfidfTransformer\n",
    "from sklearn.model_selection import train_test_split, GridSearchCV\n",
    "from sklearn.naive_bayes import MultinomialNB\n",
    "from sklearn.neural_network import MLPClassifier\n",
    "import matplotlib.pyplot as plt\n",
    "from sklearn.metrics import accuracy_score, classification_report, confusion_matrix\n",
    "from sklearn.pipeline import Pipeline\n",
    "from pprint import pprint\n",
    "from time import time\n",
    "import logging"
   ]
  },
  {
   "cell_type": "code",
   "execution_count": 26,
   "metadata": {},
   "outputs": [
    {
     "data": {
      "text/html": [
       "<div>\n",
       "<style scoped>\n",
       "    .dataframe tbody tr th:only-of-type {\n",
       "        vertical-align: middle;\n",
       "    }\n",
       "\n",
       "    .dataframe tbody tr th {\n",
       "        vertical-align: top;\n",
       "    }\n",
       "\n",
       "    .dataframe thead th {\n",
       "        text-align: right;\n",
       "    }\n",
       "</style>\n",
       "<table border=\"1\" class=\"dataframe\">\n",
       "  <thead>\n",
       "    <tr style=\"text-align: right;\">\n",
       "      <th></th>\n",
       "      <th>img_path</th>\n",
       "      <th>label</th>\n",
       "    </tr>\n",
       "  </thead>\n",
       "  <tbody>\n",
       "    <tr>\n",
       "      <th>0</th>\n",
       "      <td>Advertisement/0000136188.jpg</td>\n",
       "      <td>Advertisement</td>\n",
       "    </tr>\n",
       "    <tr>\n",
       "      <th>1</th>\n",
       "      <td>Advertisement/0000435350.jpg</td>\n",
       "      <td>Advertisement</td>\n",
       "    </tr>\n",
       "    <tr>\n",
       "      <th>2</th>\n",
       "      <td>Advertisement/0000556056.jpg</td>\n",
       "      <td>Advertisement</td>\n",
       "    </tr>\n",
       "    <tr>\n",
       "      <th>3</th>\n",
       "      <td>Advertisement/0030048095.jpg</td>\n",
       "      <td>Advertisement</td>\n",
       "    </tr>\n",
       "    <tr>\n",
       "      <th>4</th>\n",
       "      <td>Advertisement/0030048989.jpg</td>\n",
       "      <td>Advertisement</td>\n",
       "    </tr>\n",
       "    <tr>\n",
       "      <th>5</th>\n",
       "      <td>Advertisement/0030049569.jpg</td>\n",
       "      <td>Advertisement</td>\n",
       "    </tr>\n",
       "    <tr>\n",
       "      <th>6</th>\n",
       "      <td>Advertisement/03496270.jpg</td>\n",
       "      <td>Advertisement</td>\n",
       "    </tr>\n",
       "    <tr>\n",
       "      <th>7</th>\n",
       "      <td>Advertisement/03567810.jpg</td>\n",
       "      <td>Advertisement</td>\n",
       "    </tr>\n",
       "    <tr>\n",
       "      <th>8</th>\n",
       "      <td>Advertisement/03722789.jpg</td>\n",
       "      <td>Advertisement</td>\n",
       "    </tr>\n",
       "    <tr>\n",
       "      <th>9</th>\n",
       "      <td>Advertisement/04102204.jpg</td>\n",
       "      <td>Advertisement</td>\n",
       "    </tr>\n",
       "  </tbody>\n",
       "</table>\n",
       "</div>"
      ],
      "text/plain": [
       "                       img_path          label\n",
       "0  Advertisement/0000136188.jpg  Advertisement\n",
       "1  Advertisement/0000435350.jpg  Advertisement\n",
       "2  Advertisement/0000556056.jpg  Advertisement\n",
       "3  Advertisement/0030048095.jpg  Advertisement\n",
       "4  Advertisement/0030048989.jpg  Advertisement\n",
       "5  Advertisement/0030049569.jpg  Advertisement\n",
       "6    Advertisement/03496270.jpg  Advertisement\n",
       "7    Advertisement/03567810.jpg  Advertisement\n",
       "8    Advertisement/03722789.jpg  Advertisement\n",
       "9    Advertisement/04102204.jpg  Advertisement"
      ]
     },
     "execution_count": 26,
     "metadata": {},
     "output_type": "execute_result"
    }
   ],
   "source": [
    "# Chargement des données\n",
    "data = pd.read_csv('../nlp-labs/tobacco-lab/data/Tobacco3482.csv')\n",
    "data.head(10)"
   ]
  },
  {
   "cell_type": "code",
   "execution_count": 27,
   "metadata": {
    "scrolled": true
   },
   "outputs": [
    {
     "data": {
      "text/plain": [
       "<matplotlib.axes._subplots.AxesSubplot at 0x7fcb0b62a588>"
      ]
     },
     "execution_count": 27,
     "metadata": {},
     "output_type": "execute_result"
    },
    {
     "data": {
      "image/png": "[encoded data removed]",
      "text/plain": [
       "<Figure size 432x288 with 1 Axes>"
      ]
     },
     "metadata": {
      "needs_background": "light"
     },
     "output_type": "display_data"
    }
   ],
   "source": [
    "#On affiche un diagramme d'apparation de chaque catégorie dans notre set de données\n",
    "\n",
    "g = sns.countplot(data['label'],orient='h')\n",
    "g\n"
   ]
  },
  {
   "cell_type": "code",
   "execution_count": 28,
   "metadata": {},
   "outputs": [
    {
     "data": {
      "text/plain": [
       "([<matplotlib.patches.Wedge at 0x7fcb0b32fc50>,\n",
       "  <matplotlib.patches.Wedge at 0x7fcb0b1c8208>,\n",
       "  <matplotlib.patches.Wedge at 0x7fcb0b1c86d8>,\n",
       "  <matplotlib.patches.Wedge at 0x7fcb0b1c8ba8>,\n",
       "  <matplotlib.patches.Wedge at 0x7fcb0b1ec0b8>,\n",
       "  <matplotlib.patches.Wedge at 0x7fcb0b1ec588>,\n",
       "  <matplotlib.patches.Wedge at 0x7fcb0b1eca58>,\n",
       "  <matplotlib.patches.Wedge at 0x7fcb0b1ecf28>,\n",
       "  <matplotlib.patches.Wedge at 0x7fcb0b1dc438>,\n",
       "  <matplotlib.patches.Wedge at 0x7fcb0b1dc908>],\n",
       " [Text(1.0764005673946186, 0.22663145967085654, 'Advertisement'),\n",
       "  Text(0.634947489671787, 0.898243667029997, 'Email'),\n",
       "  Text(-0.3397299458968406, 1.046223477016708, 'Form'),\n",
       "  Text(-1.0308809870045412, 0.3837764852522143, 'Letter'),\n",
       "  Text(-0.8309107807359369, -0.720824024611275, 'Memo'),\n",
       "  Text(-0.13955989979815026, -1.0911109175369524, 'News'),\n",
       "  Text(0.24408190918058426, -1.0725782123513237, 'Note'),\n",
       "  Text(0.6606130738421147, -0.8795398607617921, 'Report'),\n",
       "  Text(0.9205687546155593, -0.6021238809626789, 'Resume'),\n",
       "  Text(1.0696416655506011, -0.2566450999301099, 'Scientific')])"
      ]
     },
     "execution_count": 28,
     "metadata": {},
     "output_type": "execute_result"
    },
    {
     "data": {
      "image/png": "[encoded data removed]",
      "text/plain": [
       "<Figure size 432x288 with 1 Axes>"
      ]
     },
     "metadata": {},
     "output_type": "display_data"
    }
   ],
   "source": [
    "#Comme la fréquence d'apparition me parait, inégale, je choisie d'afficher un camembert pour mieux \n",
    "# se rendre compte des disparité\n",
    "unique, counts = np.unique(data['label'],return_counts=True)\n",
    "plt.pie(counts,labels=unique)"
   ]
  },
  {
   "cell_type": "code",
   "execution_count": 36,
   "metadata": {},
   "outputs": [],
   "source": [
    "list_files = []\n",
    "for root, dirs, files in os.walk(\"./data\", topdown=False):\n",
    "    for name in files:\n",
    "        if \".txt\" in os.path.join(root, name) :\n",
    "            list_files.append(os.path.join(root, name))\n",
    "\n",
    "list_text = []\n",
    "for file in list_files:\n",
    "    file_object = open(file,'r')\n",
    "    list_text.append(file_object.read())\n",
    "    \n",
    "dict_data = {}\n",
    "for i in range(len(data['img_path'])):\n",
    "    dict_data['../nlp-labs/tobacco-lab/data/'+data['img_path'][i].replace('jpg','txt')] = data['label'][i] \n",
    "X = []\n",
    "y = []\n",
    "for i in dict_data:\n",
    "    file_object = open(i,\"r\")\n",
    "    X.append(file_object.read())\n",
    "    file_object.close()\n",
    "    y.append(dict_data[i])\n",
    "    "
   ]
  },
  {
   "cell_type": "code",
   "execution_count": 30,
   "metadata": {},
   "outputs": [],
   "source": []
  },
  {
   "cell_type": "code",
   "execution_count": 31,
   "metadata": {},
   "outputs": [],
   "source": [
    "# On split nos données\n",
    "X_train, X_test,y_train,  y_test = train_test_split(X,y, test_size=0.2)\n",
    "X_train, X_dev, y_train, y_dev = train_test_split(X_train, y_train, test_size = 0.25)"
   ]
  },
  {
   "cell_type": "code",
   "execution_count": 40,
   "metadata": {},
   "outputs": [
    {
     "name": "stdout",
     "output_type": "stream",
     "text": [
      "Evalution (Phase de train) :  0.8362068965517241\n",
      "Evalution (Phase de test) :  0.6987087517934003 \n",
      "\n",
      "               precision    recall  f1-score   support\n",
      "\n",
      "Advertisement       0.65      0.68      0.67        38\n",
      "        Email       0.82      0.95      0.88       119\n",
      "         Form       0.65      0.77      0.71        88\n",
      "       Letter       0.70      0.66      0.68       107\n",
      "         Memo       0.72      0.69      0.70       134\n",
      "         News       0.65      0.76      0.70        37\n",
      "         Note       0.50      0.24      0.33        45\n",
      "       Report       0.43      0.42      0.42        55\n",
      "       Resume       0.96      1.00      0.98        26\n",
      "   Scientific       0.72      0.60      0.66        48\n",
      "\n",
      "    micro avg       0.70      0.70      0.70       697\n",
      "    macro avg       0.68      0.68      0.67       697\n",
      " weighted avg       0.69      0.70      0.69       697\n",
      "\n",
      "[[ 26   3   2   1   0   3   2   1   0   0]\n",
      " [  0 113   0   4   1   0   0   1   0   0]\n",
      " [  3   1  68   2   5   0   5   3   0   1]\n",
      " [  0   3   3  71  10   3   1  14   0   2]\n",
      " [  1   4   7  15  92   2   1  10   0   2]\n",
      " [  6   0   2   1   0  28   0   0   0   0]\n",
      " [  3  13   9   1   6   1  11   1   0   0]\n",
      " [  1   0   3   6  10   6   0  23   0   6]\n",
      " [  0   0   0   0   0   0   0   0  26   0]\n",
      " [  0   1  10   0   4   0   2   1   1  29]]\n"
     ]
    },
    {
     "data": {
      "text/plain": [
       "MultinomialNB(alpha=1.0, class_prior=None, fit_prior=True)"
      ]
     },
     "execution_count": 40,
     "metadata": {},
     "output_type": "execute_result"
    }
   ],
   "source": [
    "#On définit deux fonctions pour entrainer et tester notre modele bayesien\n",
    "\n",
    "def vectorizer(X_train, max_features = 2000):\n",
    "\n",
    "    vectorizer = CountVectorizer(max_features=max_features)\n",
    "    vectorizer.fit(X_train)\n",
    "    \n",
    "    return vectorizer\n",
    "\n",
    "def model_NB_train(X_train,y_train,vectorizer):\n",
    "    # On vectorize nos tweets\n",
    "    X_train_counts = vectorizer.transform(X_train)\n",
    "    \n",
    "    # On entraine nos Naives Bayes\n",
    "    model = MultinomialNB()\n",
    "    model.fit(X_train_counts,y_train)\n",
    "\n",
    "    y_pred_train = model.predict(X_train_counts)\n",
    "   \n",
    "    print(\"Evalution (Phase de train) : \",accuracy_score(y_train,y_pred_train))\n",
    "    return model\n",
    "\n",
    "def model_test(model,vectorizer,X_test,y_test):\n",
    "    \n",
    "    X_test_counts = vectorizer.transform(X_test)\n",
    "\n",
    "    y_pred_test = model.predict(X_test_counts)\n",
    "    \n",
    "    print(\"Evalution (Phase de test) : \",accuracy_score(y_test,y_pred_test),\"\\n\")\n",
    "    print(classification_report(y_test,y_pred_test))\n",
    "    print(confusion_matrix(y_test,y_pred_test))\n",
    "    return model\n",
    "\n",
    "vectorizer = vectorizer(X_train, 2000)\n",
    "model = model_NB_train(X_train,y_train, vectorizer)\n",
    "model_test(model,vectorizer,X_test,y_test)\n"
   ]
  },
  {
   "cell_type": "markdown",
   "metadata": {},
   "source": [
    " "
   ]
  },
  {
   "cell_type": "code",
   "execution_count": null,
   "metadata": {},
   "outputs": [],
   "source": [
    "\n",
    "\n",
    "def MLP_train(layer_size,activation, vectorizer, X_train, y_train):\n",
    "    model = MLPClassifier(10,activation=activation,solver='adam')\n",
    "    X_train_counts = vectorizer.transform(X_train)\n",
    "    model.fit(X_train_counts,y_train)\n",
    "    \n",
    "    y_pred_train = model.predict(X_train_counts)\n",
    "    \n",
    "    print(\"Evalution (Phase de train) : \",accuracy_score(y_train,y_pred_train))\n",
    "\n",
    "    \n",
    "    return model\n",
    "\n",
    "model = MLP_train(5,'tanh',vectorizer,X_train,y_train)\n",
    "model_test(model,vectorizer,X_test,y_test)"
   ]
  },
  {
   "cell_type": "code",
   "execution_count": null,
   "metadata": {},
   "outputs": [],
   "source": []
  },
  {
   "cell_type": "code",
   "execution_count": null,
   "metadata": {},
   "outputs": [
    {
     "name": "stdout",
     "output_type": "stream",
     "text": [
      "Performing grid search...\n",
      "pipeline: ['vect', 'mlp']\n",
      "parameters:\n",
      "{'mlp__activation': ('logistic', 'tanh', 'relu'),\n",
      " 'mlp__hidden_layer_sizes': (2, 10),\n",
      " 'vect__max_df': (0.25, 0.5, 0.75, 1.0)}\n",
      "Fitting 3 folds for each of 24 candidates, totalling 72 fits\n"
     ]
    },
    {
     "name": "stderr",
     "output_type": "stream",
     "text": [
      "/home/tbernard/anaconda3/lib/python3.6/site-packages/sklearn/model_selection/_split.py:1943: FutureWarning: You should specify a value for 'cv' instead of relying on the default value. The default value will change from 3 to 5 in version 0.22.\n",
      "  warnings.warn(CV_WARNING, FutureWarning)\n",
      "[Parallel(n_jobs=-1)]: Using backend LokyBackend with 4 concurrent workers.\n",
      "[Parallel(n_jobs=-1)]: Done  33 tasks      | elapsed:  1.3min\n"
     ]
    }
   ],
   "source": [
    "# On fait le grid search pour trouver la meilleure configuration\n",
    "logging.basicConfig(level=logging.INFO,\n",
    "                    format='%(asctime)s %(levelname)s %(message)s')\n",
    "\n",
    "\n",
    "pipeline = Pipeline([\n",
    "    ('vect', CountVectorizer()),\n",
    "    ('mlp', MLPClassifier()),\n",
    "])\n",
    "\n",
    "\n",
    "parameters = {\n",
    "    'vect__max_df': (0.25, 0.5, 0.75, 1.0),\n",
    "    'mlp__activation': ('logistic','tanh','relu'),\n",
    "    'mlp__hidden_layer_sizes' : (2,10)\n",
    "}\n",
    "\n",
    "grid_search = GridSearchCV(pipeline, parameters, n_jobs=-1, verbose=2)\n",
    "\n",
    "print(\"Performing grid search...\")\n",
    "print(\"pipeline:\", [name for name, _ in pipeline.steps])\n",
    "print(\"parameters:\")\n",
    "pprint(parameters)\n",
    "t0 = time()\n",
    "grid_search.fit(X_test, y_test)\n",
    "print(\"done in %0.3fs\" % (time() - t0))\n",
    "print()\n",
    "\n",
    "print(\"Best score: %0.3f\" % grid_search.best_score_)\n",
    "print(\"Best parameters set:\")\n",
    "best_parameters = grid_search.best_estimator_.get_params()\n",
    "for param_name in sorted(parameters.keys()):\n",
    "    print(\"\\t%s: %r\" % (param_name, best_parameters[param_name]))"
   ]
  },
  {
   "cell_type": "code",
   "execution_count": null,
   "metadata": {},
   "outputs": [],
   "source": []
  },
  {
   "cell_type": "code",
   "execution_count": null,
   "metadata": {},
   "outputs": [],
   "source": []
  },
  {
   "cell_type": "code",
   "execution_count": null,
   "metadata": {},
   "outputs": [],
   "source": []
  },
  {
   "cell_type": "markdown",
   "metadata": {},
   "source": [
    " "
   ]
  },
  {
   "cell_type": "code",
   "execution_count": null,
   "metadata": {},
   "outputs": [],
   "source": []
  },
  {
   "cell_type": "code",
   "execution_count": null,
   "metadata": {},
   "outputs": [],
   "source": []
  },
  {
   "cell_type": "code",
   "execution_count": null,
   "metadata": {},
   "outputs": [],
   "source": []
  },
  {
   "cell_type": "code",
   "execution_count": null,
   "metadata": {},
   "outputs": [],
   "source": []
  }
 ],
 "metadata": {
  "kernelspec": {
   "display_name": "Python 3",
   "language": "python",
   "name": "python3"
  },
  "language_info": {
   "codemirror_mode": {
    "name": "ipython",
    "version": 3
   },
   "file_extension": ".py",
   "mimetype": "text/x-python",
   "name": "python",
   "nbconvert_exporter": "python",
   "pygments_lexer": "ipython3",
   "version": "3.6.6"
  }
 },
 "nbformat": 4,
 "nbformat_minor": 2
}
