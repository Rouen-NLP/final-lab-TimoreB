{
 "cells": [
  {
   "cell_type": "code",
   "execution_count": 55,
   "metadata": {
    "scrolled": true
   },
   "outputs": [
    {
     "data": {
      "text/html": [
       "<div>\n",
       "<style scoped>\n",
       "    .dataframe tbody tr th:only-of-type {\n",
       "        vertical-align: middle;\n",
       "    }\n",
       "\n",
       "    .dataframe tbody tr th {\n",
       "        vertical-align: top;\n",
       "    }\n",
       "\n",
       "    .dataframe thead th {\n",
       "        text-align: right;\n",
       "    }\n",
       "</style>\n",
       "<table border=\"1\" class=\"dataframe\">\n",
       "  <thead>\n",
       "    <tr style=\"text-align: right;\">\n",
       "      <th></th>\n",
       "      <th>img_path</th>\n",
       "      <th>label</th>\n",
       "    </tr>\n",
       "  </thead>\n",
       "  <tbody>\n",
       "    <tr>\n",
       "      <th>0</th>\n",
       "      <td>Advertisement/0000136188.jpg</td>\n",
       "      <td>Advertisement</td>\n",
       "    </tr>\n",
       "    <tr>\n",
       "      <th>1</th>\n",
       "      <td>Advertisement/0000435350.jpg</td>\n",
       "      <td>Advertisement</td>\n",
       "    </tr>\n",
       "    <tr>\n",
       "      <th>2</th>\n",
       "      <td>Advertisement/0000556056.jpg</td>\n",
       "      <td>Advertisement</td>\n",
       "    </tr>\n",
       "    <tr>\n",
       "      <th>3</th>\n",
       "      <td>Advertisement/0030048095.jpg</td>\n",
       "      <td>Advertisement</td>\n",
       "    </tr>\n",
       "    <tr>\n",
       "      <th>4</th>\n",
       "      <td>Advertisement/0030048989.jpg</td>\n",
       "      <td>Advertisement</td>\n",
       "    </tr>\n",
       "    <tr>\n",
       "      <th>5</th>\n",
       "      <td>Advertisement/0030049569.jpg</td>\n",
       "      <td>Advertisement</td>\n",
       "    </tr>\n",
       "    <tr>\n",
       "      <th>6</th>\n",
       "      <td>Advertisement/03496270.jpg</td>\n",
       "      <td>Advertisement</td>\n",
       "    </tr>\n",
       "    <tr>\n",
       "      <th>7</th>\n",
       "      <td>Advertisement/03567810.jpg</td>\n",
       "      <td>Advertisement</td>\n",
       "    </tr>\n",
       "    <tr>\n",
       "      <th>8</th>\n",
       "      <td>Advertisement/03722789.jpg</td>\n",
       "      <td>Advertisement</td>\n",
       "    </tr>\n",
       "    <tr>\n",
       "      <th>9</th>\n",
       "      <td>Advertisement/04102204.jpg</td>\n",
       "      <td>Advertisement</td>\n",
       "    </tr>\n",
       "  </tbody>\n",
       "</table>\n",
       "</div>"
      ],
      "text/plain": [
       "                       img_path          label\n",
       "0  Advertisement/0000136188.jpg  Advertisement\n",
       "1  Advertisement/0000435350.jpg  Advertisement\n",
       "2  Advertisement/0000556056.jpg  Advertisement\n",
       "3  Advertisement/0030048095.jpg  Advertisement\n",
       "4  Advertisement/0030048989.jpg  Advertisement\n",
       "5  Advertisement/0030049569.jpg  Advertisement\n",
       "6    Advertisement/03496270.jpg  Advertisement\n",
       "7    Advertisement/03567810.jpg  Advertisement\n",
       "8    Advertisement/03722789.jpg  Advertisement\n",
       "9    Advertisement/04102204.jpg  Advertisement"
      ]
     },
     "execution_count": 55,
     "metadata": {},
     "output_type": "execute_result"
    }
   ],
   "source": [
    "import numpy as np \n",
    "import pandas as pd\n",
    "import os\n",
    "import seaborn as sns\n",
    "import sklearn\n",
    "\n",
    "data = pd.read_csv('./data/Tobacco3482.csv')\n",
    "data.head(10)"
   ]
  },
  {
   "cell_type": "code",
   "execution_count": 51,
   "metadata": {
    "scrolled": true
   },
   "outputs": [
    {
     "data": {
      "text/plain": [
       "<matplotlib.axes._subplots.AxesSubplot at 0x7ff78af18e80>"
      ]
     },
     "execution_count": 51,
     "metadata": {},
     "output_type": "execute_result"
    },
    {
     "data": {
      "image/png": "[encoded data removed]",
      "text/plain": [
       "<Figure size 432x288 with 1 Axes>"
      ]
     },
     "metadata": {
      "needs_background": "light"
     },
     "output_type": "display_data"
    }
   ],
   "source": [
    "sns.countplot(data['label'],orient='h')"
   ]
  },
  {
   "cell_type": "code",
   "execution_count": 57,
   "metadata": {},
   "outputs": [],
   "source": [
    "import os\n",
    "list_files = []\n",
    "for root, dirs, files in os.walk(\"./data\", topdown=False):\n",
    "    for name in files:\n",
    "        if \".txt\" in os.path.join(root, name) :\n",
    "            list_files.append(os.path.join(root, name))\n",
    "\n",
    "list_text = []\n",
    "for file in list_files:\n",
    "    file_object = open(file,'r')\n",
    "    list_text.append(file_object.read())\n",
    "    "
   ]
  },
  {
   "cell_type": "code",
   "execution_count": 80,
   "metadata": {},
   "outputs": [
    {
     "name": "stdout",
     "output_type": "stream",
     "text": [
      "['A Mpertant as yar\\nsesiye teaetered cabiieess. Baely\\n\\ndoesn’) keow bea te\\nBitton Aau-Fotne bl resin syste. Cant\\n\\nviduiiliy crafted. Parenter\\ntiott, Most eapennese liste rn siichinng\\n\\nHolimars. Costlicr of course\\n\\n      \\n  \\n \\n\\n“Has Oetenined -\\n\\nWainy: Thy\\nie Hoel? h.\\n\\nThat Cia\\n\\nMarg a Féme awe ii na eager ref Hizon a ol\\n\\n \\n\\n \\n\\nRa a\\n\\n6P9S70099', \"TE che fitm\\n\\nm66400 7127\\n\\nKOOLS are the only cigarettes that taste\\ngood when you have &® cold. They taste even\\nbetter when you don't.\\n\\nJob No, K-2978\\n‘Mevapapars—300 iner—Mareh & April, 1956\\n(5 9-4 in 4 108 ines) Pinel Proof (7) March 15, 1956\", 'so ARN Rr nr\\n\\nBWR Ga ||\\n\\nVending Operators\\n\\n \\n\\nNow these columns are\\n\\nWORTH °8 per_machine per year\\nto you in Fixed Compensation!\\n\\nThat\\'s right! Por bizer profits, here\\'s the new\\nBAW payment achedule which now inchndes BELAIR\\n—thelight menthal cigarette with the famons leigh\\ncoupon. Far one estunm each, bere\\'s how mach yoet\\nDow get yermachine per year wider thistew contract\\n\\nYICEROY, KOOL Filter, RALEIGH Filter\\nand BELAIR... . cite coeteee ae\\nVICEROV, KOOL Falter and WETAIR,\\nVICEROV, KOOL Filer and RALEIGH\\n“VICRROY and KOOL Filler.........\\n\\nPlus BONUS PROFIT ON SALES!\\n\\nP=\\n\\nEvery carton of RALEIGH and ight menthol BELATR.\\naarettes now earries a boas strip of 4 coupora—as\\nshown above. Each strip is worth three sents in each\\n{or much mare, if used for premium) and is the fry\\nto domes profits for you!\\n\\nFoe additional informetion, writs Sales Dep “V.\"\\'Browe & Williamson Tebuccs Cory\\n\\nFor example, if « machine cole only ome pack each\\nof RALEIGH Filters and BELAIR per day, you will\\naoranlste 78 exrton strips of RALEIGH coupons\\nyearlysownrth $2 18 cash as bonus profit t you\\n‘on Jost one machine!\\n\\nLoniaviter, Ky.\\n\\nC1988, BROWN & WILLIAHESON TORACCO CONPORETION ERAN Se. Mark nf Lucy to Falavew Phodects', 'MARCH 24,19 VO — 3. Tersrearep\\n\\n \\n\\n‘ yi ills :\\ni WeiSais. i ta fat rot - ¢ A . Cw. ing: Te Sao cere u Mas tars\\n\\na ined oi MR SY ri nrarin Com ine Le Aoronnnnt we\\n\\nius.', '~\\n\\nSpend a milder moment qs\\nwith Raleigh.\\n\\n=\\nA special treatment softens the tobaccos Ao\\nfor a milder taste\\n\\nait sa\\n\\nLook closely! These 7 power, 35mm, Kings\\n\\ncenter focus Bushnell binoculars\\nhave a field of 345° at 1000 yards.\\nYours with carrying case for aings\\nfree B&W coupons. the valuable :\\nextra on every pack of Raleigh\\nTo sec over 1000 gifts, write\\n\\nfor your free Gift Catalog:\\n\\nBox 12, Laursville, Ky. 40201\\n\\n \\n\\nThe Surgeon General Has Determined\\n\\nSdtrer Kings, 16 mg, “ta’.\" 1.2 mg n cote: Lorgs, “8 mg. “tar,” That Cigarette Smoking is Dangerous to Your Health,\\n1.3 -nq.ntcor 3g, av, per cigaresi2, FT Revart Sept.\"73\\n\\n \\n\\n“ True January 1974 - 2nd Cover']\n",
      "['Advertisement', 'Advertisement', 'Advertisement', 'Advertisement', 'Advertisement']\n"
     ]
    }
   ],
   "source": [
    "dict_data = {}\n",
    "for i in range(len(data['img_path'])):\n",
    "    dict_data['./data/'+data['img_path'][i].replace('jpg','txt')] = data['label'][i] \n",
    "X = []\n",
    "y = []\n",
    "for i in dict_data:\n",
    "    file_object = open(i,\"r\")\n",
    "    X.append(file_object.read())\n",
    "    file_object.close()\n",
    "    y.append(dict_data[i])\n",
    "    \n",
    "print(X[:5])\n",
    "print(y[:5])"
   ]
  },
  {
   "cell_type": "code",
   "execution_count": 81,
   "metadata": {},
   "outputs": [],
   "source": [
    "from sklearn.model_selection import train_test_split\n",
    "\n",
    "X_train, X_test,y_train,  y_test = train_test_split(X,y, test_size=0.33)"
   ]
  }
 ],
 "metadata": {
  "kernelspec": {
   "display_name": "Python 3",
   "language": "python",
   "name": "python3"
  },
  "language_info": {
   "codemirror_mode": {
    "name": "ipython",
    "version": 3
   },
   "file_extension": ".py",
   "mimetype": "text/x-python",
   "name": "python",
   "nbconvert_exporter": "python",
   "pygments_lexer": "ipython3",
   "version": "3.7.0"
  }
 },
 "nbformat": 4,
 "nbformat_minor": 2
}
